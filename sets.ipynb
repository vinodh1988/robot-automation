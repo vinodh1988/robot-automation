{
 "cells": [
  {
   "cell_type": "code",
   "execution_count": 2,
   "metadata": {},
   "outputs": [
    {
     "name": "stdout",
     "output_type": "stream",
     "text": [
      "{'Jack', 'Johnson', 'Maneesh', 'Roger', 'Naresh'}\n"
     ]
    }
   ],
   "source": [
    "team1={\"Roger\",\"Johnson\",\"Naresh\",\"Jack\",\"Maneesh\",\"Johnson\",\"Naresh\"}\n",
    "print(team1)"
   ]
  },
  {
   "cell_type": "code",
   "execution_count": 7,
   "metadata": {},
   "outputs": [
    {
     "name": "stdout",
     "output_type": "stream",
     "text": [
      "{'Harry', 'John', 'Vinay', 'Mohith', 'Jerry', 'Lara', 'Jack', 'Victor', 'Joseph', 'Lokesh'}\n",
      "{'Jack', 'Harry'}\n",
      "{'John', 'Lara', 'Victor', 'Joseph', 'Lokesh'}\n",
      "True\n",
      "{'Jack', 'Vinay', 'Harry', 'Mohith', 'Jerry', 'Kevin'}\n"
     ]
    }
   ],
   "source": [
    "team1={\"Joseph\",\"Jack\",\"Lara\",\"Harry\",\"Victor\",\"John\",\"Lokesh\"}\n",
    "team2 = {\"Vinay\",\"Jack\",\"Harry\",\"Jerry\",\"Mohith\"}\n",
    "\n",
    "unionset = team1 | team2 #union\n",
    "print(unionset)\n",
    "\n",
    "intersected = team1 & team2\n",
    "print(intersected)\n",
    "\n",
    "difference = team1 - team2\n",
    "print(difference)\n",
    "\n",
    "is_present = {\"Lara\",\"Harry\"} <= team1 #is subset of\n",
    "print(is_present)\n",
    "\n",
    "team2.add(\"Kevin\")\n",
    "print(team2)"
   ]
  }
 ],
 "metadata": {
  "kernelspec": {
   "display_name": "Python 3",
   "language": "python",
   "name": "python3"
  },
  "language_info": {
   "codemirror_mode": {
    "name": "ipython",
    "version": 3
   },
   "file_extension": ".py",
   "mimetype": "text/x-python",
   "name": "python",
   "nbconvert_exporter": "python",
   "pygments_lexer": "ipython3",
   "version": "3.11.2"
  }
 },
 "nbformat": 4,
 "nbformat_minor": 2
}
