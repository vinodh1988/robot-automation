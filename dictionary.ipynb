{
 "cells": [
  {
   "cell_type": "code",
   "execution_count": 4,
   "metadata": {},
   "outputs": [
    {
     "name": "stdout",
     "output_type": "stream",
     "text": [
      "{'sno': 1, 'name': 'Roger', 'city': 'Mumbai'}\n",
      "{'sno': 1, 'name': 'Roger', 'city': 'Mumbai', 'skills': {'Javascript', 'Java', 'Python'}}\n",
      "{'sno': 1, 'name': 'Roger', 'city': 'London', 'skills': {'Javascript', 'Java', 'Python'}}\n",
      "{'sno': 1, 'name': 'Roger', 'city': 'London'}\n"
     ]
    }
   ],
   "source": [
    "person = {\"sno\" : 1, \"name\": \"Roger\", \"city\": \"Mumbai\"}\n",
    "print(person)\n",
    "person[\"skills\"]= {\"Java\",\"Python\",\"Javascript\"}\n",
    "print(person)\n",
    "person['city']=\"London\"\n",
    "print(person)\n",
    "del person[\"skills\"]\n",
    "print(person)"
   ]
  }
 ],
 "metadata": {
  "kernelspec": {
   "display_name": "Python 3",
   "language": "python",
   "name": "python3"
  },
  "language_info": {
   "codemirror_mode": {
    "name": "ipython",
    "version": 3
   },
   "file_extension": ".py",
   "mimetype": "text/x-python",
   "name": "python",
   "nbconvert_exporter": "python",
   "pygments_lexer": "ipython3",
   "version": "3.11.2"
  }
 },
 "nbformat": 4,
 "nbformat_minor": 2
}
