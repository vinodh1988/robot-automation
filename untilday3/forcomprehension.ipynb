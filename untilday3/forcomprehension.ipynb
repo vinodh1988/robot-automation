{
 "cells": [
  {
   "cell_type": "code",
   "execution_count": 2,
   "metadata": {},
   "outputs": [
    {
     "name": "stdout",
     "output_type": "stream",
     "text": [
      "['Krishna', 'Jackson']\n",
      "['ROHIT', 'KRISHNA', 'JACKSON', 'HARRY', 'NAVIN', 'KEVIN']\n"
     ]
    }
   ],
   "source": [
    "group=[\"Rohit\",\"Krishna\",\"Jackson\",\"Harry\",\"Navin\",\"Kevin\"]\n",
    "\n",
    "processed_group=[  x for x in group if len(x) > 5]\n",
    "processed_group2 = [ x.upper() for x in group ]\n",
    "\n",
    "print(processed_group)\n",
    "print(processed_group2)"
   ]
  },
  {
   "cell_type": "code",
   "execution_count": 4,
   "metadata": {},
   "outputs": [
    {
     "name": "stdout",
     "output_type": "stream",
     "text": [
      "[144, 16, 4096, 4096, 2025, 100, 25]\n",
      "['Square of12-->144', 'Square of4-->16', 'Square of64-->4096', 'Square of64-->4096', 'Square of45-->2025', 'Square of10-->100', 'Square of5-->25']\n"
     ]
    }
   ],
   "source": [
    "numbers=[12,4,64,64,45,10,5]\n",
    "processed_numbers1=[  x**2   for x in numbers]\n",
    "print(processed_numbers1)\n",
    "processed_numbers2=[  \"Square of\"+str(x)+ \"-->\" +str(x**2) for x in numbers]\n",
    "print(processed_numbers2)"
   ]
  }
 ],
 "metadata": {
  "kernelspec": {
   "display_name": "Python 3",
   "language": "python",
   "name": "python3"
  },
  "language_info": {
   "codemirror_mode": {
    "name": "ipython",
    "version": 3
   },
   "file_extension": ".py",
   "mimetype": "text/x-python",
   "name": "python",
   "nbconvert_exporter": "python",
   "pygments_lexer": "ipython3",
   "version": "3.11.2"
  }
 },
 "nbformat": 4,
 "nbformat_minor": 2
}
