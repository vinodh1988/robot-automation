{
 "cells": [
  {
   "cell_type": "code",
   "execution_count": 7,
   "metadata": {},
   "outputs": [
    {
     "name": "stdout",
     "output_type": "stream",
     "text": [
      "[1, 35, 6, 90, 'Raj', 'Joseph']\n"
     ]
    }
   ],
   "source": [
    "mylist=[1,35,6,90,\"Raj\",\"Joseph\"]\n",
    "print(mylist)"
   ]
  },
  {
   "cell_type": "code",
   "execution_count": 8,
   "metadata": {},
   "outputs": [
    {
     "name": "stdout",
     "output_type": "stream",
     "text": [
      "[1, 35, 6, 'Changed Data', 'Raj', 'Joseph']\n"
     ]
    }
   ],
   "source": [
    "mylist[3]=\"Changed Data\"\n",
    "print(mylist)"
   ]
  },
  {
   "cell_type": "code",
   "execution_count": 9,
   "metadata": {},
   "outputs": [
    {
     "name": "stdout",
     "output_type": "stream",
     "text": [
      "Joseph\n",
      "[1, 35, 6, 'Changed Data', 'Raj', 'Joseph', 567]\n",
      "[1, 35, 6, 'Changed Data', 'Raj', 'Joseph', 567, 35, 600, 5003, 'Rohan']\n"
     ]
    }
   ],
   "source": [
    "print(mylist[5])\n",
    "mylist.append(567)\n",
    "print(mylist)\n",
    "mylist.extend([35,600,5003,\"Rohan\"])\n",
    "print(mylist)"
   ]
  },
  {
   "cell_type": "code",
   "execution_count": 10,
   "metadata": {},
   "outputs": [
    {
     "name": "stdout",
     "output_type": "stream",
     "text": [
      "current value: 1\n",
      "current value: 35\n",
      "current value: 6\n",
      "current value: Changed Data\n",
      "current value: Raj\n",
      "current value: Joseph\n",
      "current value: 567\n",
      "current value: 35\n",
      "current value: 600\n",
      "current value: 5003\n",
      "current value: Rohan\n",
      "0: 1\n",
      "1: 35\n",
      "2: 6\n",
      "3: Changed Data\n",
      "4: Raj\n",
      "5: Joseph\n",
      "6: 567\n",
      "7: 35\n",
      "8: 600\n",
      "9: 5003\n",
      "10: Rohan\n"
     ]
    }
   ],
   "source": [
    "for x in mylist:\n",
    "    print(f\"current value: {x}\")\n",
    "\n",
    "for index, element in enumerate(mylist):\n",
    "    print(f\"{index}: {element}\")\n"
   ]
  },
  {
   "cell_type": "code",
   "execution_count": 11,
   "metadata": {},
   "outputs": [
    {
     "name": "stdout",
     "output_type": "stream",
     "text": [
      "0: 1\n",
      "1: 35\n",
      "2: 6\n",
      "3: Changed Data\n",
      "4: Raj\n",
      "5: Joseph\n",
      "6: 567\n",
      "7: 35\n",
      "8: 600\n",
      "9: 5003\n",
      "10: Rohan\n"
     ]
    }
   ],
   "source": [
    "for i in range(len(mylist)):\n",
    "    print(f\"{i}: {mylist[i]}\")"
   ]
  }
 ],
 "metadata": {
  "kernelspec": {
   "display_name": "Python 3",
   "language": "python",
   "name": "python3"
  },
  "language_info": {
   "codemirror_mode": {
    "name": "ipython",
    "version": 3
   },
   "file_extension": ".py",
   "mimetype": "text/x-python",
   "name": "python",
   "nbconvert_exporter": "python",
   "pygments_lexer": "ipython3",
   "version": "3.11.2"
  }
 },
 "nbformat": 4,
 "nbformat_minor": 2
}
