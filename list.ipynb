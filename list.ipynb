{
 "cells": [
  {
   "cell_type": "code",
   "execution_count": 1,
   "metadata": {},
   "outputs": [
    {
     "name": "stdout",
     "output_type": "stream",
     "text": [
      "[1, 35, 6, 90, 'Raj', 'Joseph']\n"
     ]
    }
   ],
   "source": [
    "mylist=[1,35,6,90,\"Raj\",\"Joseph\"]\n",
    "print(mylist)"
   ]
  },
  {
   "cell_type": "code",
   "execution_count": 2,
   "metadata": {},
   "outputs": [
    {
     "name": "stdout",
     "output_type": "stream",
     "text": [
      "[1, 35, 6, 'Changed Data', 'Raj', 'Joseph']\n"
     ]
    }
   ],
   "source": [
    "mylist[3]=\"Changed Data\"\n",
    "print(mylist)"
   ]
  },
  {
   "cell_type": "code",
   "execution_count": 4,
   "metadata": {},
   "outputs": [
    {
     "name": "stdout",
     "output_type": "stream",
     "text": [
      "Joseph\n",
      "[1, 35, 6, 'Changed Data', 'Raj', 'Joseph', 567, 567]\n",
      "[1, 35, 6, 'Changed Data', 'Raj', 'Joseph', 567, 567, 35, 600, 5003, 'Rohan']\n"
     ]
    }
   ],
   "source": [
    "print(mylist[5])\n",
    "mylist.append(567)\n",
    "print(mylist)\n",
    "mylist.extend([35,600,5003,\"Rohan\"])\n",
    "print(mylist)"
   ]
  },
  {
   "cell_type": "code",
   "execution_count": 6,
   "metadata": {},
   "outputs": [
    {
     "name": "stdout",
     "output_type": "stream",
     "text": [
      "current value: 1\n",
      "current value: 35\n",
      "current value: 6\n",
      "current value: Changed Data\n",
      "current value: Raj\n",
      "current value: Joseph\n",
      "current value: 567\n",
      "current value: 567\n",
      "current value: 35\n",
      "current value: 600\n",
      "current value: 5003\n",
      "current value: Rohan\n"
     ]
    }
   ],
   "source": [
    "for x in mylist:\n",
    "    print(f\"current value: {x}\")\n"
   ]
  }
 ],
 "metadata": {
  "kernelspec": {
   "display_name": "Python 3",
   "language": "python",
   "name": "python3"
  },
  "language_info": {
   "codemirror_mode": {
    "name": "ipython",
    "version": 3
   },
   "file_extension": ".py",
   "mimetype": "text/x-python",
   "name": "python",
   "nbconvert_exporter": "python",
   "pygments_lexer": "ipython3",
   "version": "3.11.2"
  }
 },
 "nbformat": 4,
 "nbformat_minor": 2
}
