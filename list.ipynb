{
 "cells": [
  {
   "cell_type": "code",
   "execution_count": 7,
   "metadata": {},
   "outputs": [
    {
     "name": "stdout",
     "output_type": "stream",
     "text": [
      "[1, 35, 6, 90, 'Raj', 'Joseph']\n"
     ]
    }
   ],
   "source": [
    "mylist=[1,35,6,90,\"Raj\",\"Joseph\"]\n",
    "print(mylist)"
   ]
  },
  {
   "cell_type": "code",
   "execution_count": 8,
   "metadata": {},
   "outputs": [
    {
     "name": "stdout",
     "output_type": "stream",
     "text": [
      "[1, 35, 6, 'Changed Data', 'Raj', 'Joseph']\n"
     ]
    }
   ],
   "source": [
    "mylist[3]=\"Changed Data\"\n",
    "print(mylist)"
   ]
  },
  {
   "cell_type": "code",
   "execution_count": 9,
   "metadata": {},
   "outputs": [
    {
     "name": "stdout",
     "output_type": "stream",
     "text": [
      "Joseph\n",
      "[1, 35, 6, 'Changed Data', 'Raj', 'Joseph', 567]\n",
      "[1, 35, 6, 'Changed Data', 'Raj', 'Joseph', 567, 35, 600, 5003, 'Rohan']\n"
     ]
    }
   ],
   "source": [
    "print(mylist[5])\n",
    "mylist.append(567)\n",
    "print(mylist)\n",
    "mylist.extend([35,600,5003,\"Rohan\"])\n",
    "print(mylist)"
   ]
  },
  {
   "cell_type": "code",
   "execution_count": 10,
   "metadata": {},
   "outputs": [
    {
     "name": "stdout",
     "output_type": "stream",
     "text": [
      "current value: 1\n",
      "current value: 35\n",
      "current value: 6\n",
      "current value: Changed Data\n",
      "current value: Raj\n",
      "current value: Joseph\n",
      "current value: 567\n",
      "current value: 35\n",
      "current value: 600\n",
      "current value: 5003\n",
      "current value: Rohan\n",
      "0: 1\n",
      "1: 35\n",
      "2: 6\n",
      "3: Changed Data\n",
      "4: Raj\n",
      "5: Joseph\n",
      "6: 567\n",
      "7: 35\n",
      "8: 600\n",
      "9: 5003\n",
      "10: Rohan\n"
     ]
    }
   ],
   "source": [
    "for x in mylist:\n",
    "    print(f\"current value: {x}\")\n",
    "\n",
    "for index, element in enumerate(mylist):\n",
    "    print(f\"{index}: {element}\")\n"
   ]
  },
  {
   "cell_type": "code",
   "execution_count": 11,
   "metadata": {},
   "outputs": [
    {
     "name": "stdout",
     "output_type": "stream",
     "text": [
      "0: 1\n",
      "1: 35\n",
      "2: 6\n",
      "3: Changed Data\n",
      "4: Raj\n",
      "5: Joseph\n",
      "6: 567\n",
      "7: 35\n",
      "8: 600\n",
      "9: 5003\n",
      "10: Rohan\n"
     ]
    }
   ],
   "source": [
    "for i in range(len(mylist)):\n",
    "    print(f\"{i}: {mylist[i]}\")"
   ]
  },
  {
   "cell_type": "code",
   "execution_count": 20,
   "metadata": {},
   "outputs": [
    {
     "name": "stdout",
     "output_type": "stream",
     "text": [
      "[35, 6, 'Changed Data']\n",
      "[1, 6, 'Raj', 567, 600, 'Rohan']\n",
      "[1, 6, 'Raj', 567, 600, 'Rohan']\n",
      "['Rohan', 5003, 600, 35, 567, 'Joseph', 'Raj', 'Changed Data', 6, 35, 1]\n",
      "['Rohan', 5003, 600, 35, 567]\n"
     ]
    }
   ],
   "source": [
    "#slicing operation will give you new list\n",
    "listx = mylist[1:4]\n",
    "print(listx)\n",
    "\n",
    "listy = mylist[0:len(mylist):2]\n",
    "print(listy)\n",
    "\n",
    "listz = mylist[::2]\n",
    "print(listz)\n",
    "\n",
    "listp = mylist[::-1]\n",
    "print(listp)\n",
    "\n",
    "listp = mylist[len(mylist)-1:5:-1]\n",
    "print(listp)"
   ]
  }
 ],
 "metadata": {
  "kernelspec": {
   "display_name": "Python 3",
   "language": "python",
   "name": "python3"
  },
  "language_info": {
   "codemirror_mode": {
    "name": "ipython",
    "version": 3
   },
   "file_extension": ".py",
   "mimetype": "text/x-python",
   "name": "python",
   "nbconvert_exporter": "python",
   "pygments_lexer": "ipython3",
   "version": "3.11.2"
  }
 },
 "nbformat": 4,
 "nbformat_minor": 2
}
