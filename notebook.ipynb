{
 "cells": [
  {
   "cell_type": "code",
   "execution_count": null,
   "metadata": {},
   "outputs": [
    {
     "name": "stdout",
     "output_type": "stream",
     "text": [
      "Hello World !!!\n"
     ]
    }
   ],
   "source": [
    "print(\"Hello World !!!\")"
   ]
  },
  {
   "cell_type": "code",
   "execution_count": null,
   "metadata": {},
   "outputs": [
    {
     "name": "stdout",
     "output_type": "stream",
     "text": [
      "20\n",
      "<class 'int'>\n"
     ]
    }
   ],
   "source": [
    "a=20\n",
    "print(a)\n",
    "print(type(a))"
   ]
  },
  {
   "cell_type": "code",
   "execution_count": null,
   "metadata": {},
   "outputs": [
    {
     "name": "stdout",
     "output_type": "stream",
     "text": [
      "a:1\n",
      "a:2\n",
      "a:3\n",
      "a:4\n",
      "a:5\n",
      "a:6\n",
      "a:7\n",
      "a:8\n",
      "a:9\n",
      "a:10\n",
      "a:11\n",
      "a:12\n",
      "a:13\n",
      "a:14\n",
      "a:15\n",
      "a:16\n",
      "a:17\n",
      "a:18\n",
      "a:19\n",
      "This statement is after the loop\n"
     ]
    }
   ],
   "source": [
    "a=1\n",
    "# ==, !=, >=,<= ,>,< are the relational operators in python\n",
    "while a<20:\n",
    "    print(f\"a:{a}\") \n",
    "    a+=1\n",
    "\n",
    "print(\"This statement is after the loop\")"
   ]
  },
  {
   "cell_type": "code",
   "execution_count": null,
   "metadata": {},
   "outputs": [
    {
     "name": "stdout",
     "output_type": "stream",
     "text": [
      "a:1\n",
      "a:2\n",
      "a:3\n",
      "a:4\n",
      "a:5\n",
      "a:6\n",
      "a:7\n",
      "a:8\n",
      "a:9\n",
      "a:10\n",
      "a:11\n",
      "a:12\n",
      "a:13\n",
      "a:14\n",
      "a:15\n",
      "a:16\n",
      "a:17\n",
      "a:18\n",
      "a:19\n",
      "a:20\n"
     ]
    }
   ],
   "source": [
    "for x in range(1,21):\n",
    "    print(f\"a:{x}\")"
   ]
  },
  {
   "cell_type": "code",
   "execution_count": 3,
   "metadata": {},
   "outputs": [
    {
     "name": "stdout",
     "output_type": "stream",
     "text": [
      "Hello! How are you\n",
      "Hello! Naresh\n"
     ]
    }
   ],
   "source": []
  }
 ],
 "metadata": {
  "kernelspec": {
   "display_name": "Python 3",
   "language": "python",
   "name": "python3"
  },
  "language_info": {
   "codemirror_mode": {
    "name": "ipython",
    "version": 3
   },
   "file_extension": ".py",
   "mimetype": "text/x-python",
   "name": "python",
   "nbconvert_exporter": "python",
   "pygments_lexer": "ipython3",
   "version": "3.11.2"
  }
 },
 "nbformat": 4,
 "nbformat_minor": 2
}
