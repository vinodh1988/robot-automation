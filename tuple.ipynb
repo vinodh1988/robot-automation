{
 "cells": [
  {
   "cell_type": "code",
   "execution_count": 2,
   "metadata": {},
   "outputs": [
    {
     "name": "stdout",
     "output_type": "stream",
     "text": [
      "length of the tuple: 5\n"
     ]
    }
   ],
   "source": [
    "firstone=('Arjun','Kiran',\"Joe\",\"Harry\",\"Vicky\")\n",
    "firstone[3]\n",
    "\n",
    "# there will not be any functions to manipulate the tuple\n",
    "print(f\"length of the tuple: {len(firstone)}\")"
   ]
  }
 ],
 "metadata": {
  "kernelspec": {
   "display_name": "Python 3",
   "language": "python",
   "name": "python3"
  },
  "language_info": {
   "codemirror_mode": {
    "name": "ipython",
    "version": 3
   },
   "file_extension": ".py",
   "mimetype": "text/x-python",
   "name": "python",
   "nbconvert_exporter": "python",
   "pygments_lexer": "ipython3",
   "version": "3.11.2"
  }
 },
 "nbformat": 4,
 "nbformat_minor": 2
}
